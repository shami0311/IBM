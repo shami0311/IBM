{
  "cells": [
    {
      "cell_type": "markdown",
      "id": "dfad42e0-62ad-4e4b-a13b-b34862b128ca",
      "metadata": {},
      "outputs": [],
      "source": [
        "<p style=\"text-align:center\">\n",
        "    <a href=\"https://skills.network/?utm_medium=Exinfluencer&utm_source=Exinfluencer&utm_content=000026UJ&utm_term=10006555&utm_id=NA-SkillsNetwork-Channel-SkillsNetworkCoursesIBMDS0321ENSkillsNetwork26802033-2022-01-01\" target=\"_blank\">\n",
        "    <img src=\"https://cf-courses-data.s3.us.cloud-object-storage.appdomain.cloud/assets/logos/SN_web_lightmode.png\" width=\"200\" alt=\"Skills Network Logo\"  />\n",
        "    </a>\n",
        "</p>\n"
      ]
    },
    {
      "cell_type": "markdown",
      "id": "d35b1a53-e15c-46ed-8d12-f839079218ea",
      "metadata": {},
      "outputs": [],
      "source": [
        "# **Space X  Falcon 9 First Stage Landing Prediction**\n"
      ]
    },
    {
      "cell_type": "markdown",
      "id": "3b5c0311-4ec7-462b-87af-f26bdbc361b9",
      "metadata": {},
      "outputs": [],
      "source": [
        "## Lab 2: Data wrangling\n"
      ]
    },
    {
      "cell_type": "markdown",
      "id": "54b5c0ca-bab6-430f-9eab-c1dd9a778430",
      "metadata": {},
      "outputs": [],
      "source": [
        "Estimated time needed: **60** minutes\n"
      ]
    },
    {
      "cell_type": "markdown",
      "id": "91c19337-98d9-4ae0-86f4-9c122973c97d",
      "metadata": {},
      "outputs": [],
      "source": [
        "In this lab, we will perform some Exploratory Data Analysis (EDA) to find some patterns in the data and determine what would be the label for training supervised models.\n",
        "\n",
        "In the data set, there are several different cases where the booster did not land successfully. Sometimes a landing was attempted but failed due to an accident; for example, <code>True Ocean</code> means the mission outcome was successfully  landed to a specific region of the ocean while <code>False Ocean</code> means the mission outcome was unsuccessfully landed to a specific region of the ocean. <code>True RTLS</code> means the mission outcome was successfully  landed to a ground pad <code>False RTLS</code> means the mission outcome was unsuccessfully landed to a ground pad.<code>True ASDS</code> means the mission outcome was successfully landed on  a drone ship <code>False ASDS</code> means the mission outcome was unsuccessfully landed on a drone ship.\n",
        "\n",
        "In this lab we will mainly convert those outcomes into Training Labels with `1` means the booster successfully landed `0` means it was unsuccessful.\n"
      ]
    },
    {
      "cell_type": "markdown",
      "id": "cbb5a4fc-5233-416e-8afc-3286663a58b0",
      "metadata": {},
      "outputs": [],
      "source": [
        "Falcon 9 first stage will land successfully\n"
      ]
    },
    {
      "cell_type": "markdown",
      "id": "e3b99ff7-83dc-46ad-96db-e6f017131c28",
      "metadata": {},
      "outputs": [],
      "source": [
        "![](https://cf-courses-data.s3.us.cloud-object-storage.appdomain.cloud/IBMDeveloperSkillsNetwork-DS0701EN-SkillsNetwork/api/Images/landing_1.gif)\n"
      ]
    },
    {
      "cell_type": "markdown",
      "id": "77f58760-c8e9-4ea0-b52b-37a424bfc2b3",
      "metadata": {},
      "outputs": [],
      "source": [
        "Several examples of an unsuccessful landing are shown here:\n"
      ]
    },
    {
      "cell_type": "markdown",
      "id": "8f4713c1-5e3b-4ac9-9640-1511d9e37556",
      "metadata": {},
      "outputs": [],
      "source": [
        "![](https://cf-courses-data.s3.us.cloud-object-storage.appdomain.cloud/IBMDeveloperSkillsNetwork-DS0701EN-SkillsNetwork/api/Images/crash.gif)\n"
      ]
    },
    {
      "cell_type": "markdown",
      "id": "98265e5b-e615-4435-86a8-dc622f19bc5d",
      "metadata": {},
      "outputs": [],
      "source": [
        "## Objectives\n",
        "\n",
        "Perform exploratory  Data Analysis and determine Training Labels\n",
        "\n",
        "*   Exploratory Data Analysis\n",
        "*   Determine Training Labels\n"
      ]
    },
    {
      "cell_type": "markdown",
      "id": "51648979-9025-4e51-9ab6-57f60a6cf1cc",
      "metadata": {},
      "outputs": [],
      "source": [
        "## Import Libraries and Define Auxiliary Functions\n"
      ]
    },
    {
      "cell_type": "markdown",
      "id": "08605ab9-8cb6-4297-b2a3-62848f16f6be",
      "metadata": {},
      "outputs": [],
      "source": [
        "We will import the following libraries.\n"
      ]
    },
    {
      "cell_type": "code",
      "id": "82ff783c-104d-4c15-b1a7-0da40118879f",
      "metadata": {},
      "outputs": [],
      "source": [
        "import piplite\nawait piplite.install(['numpy'])\nawait piplite.install(['pandas'])"
      ]
    },
    {
      "cell_type": "code",
      "id": "1bab39e0-3239-45cd-a9ee-bcdef3dfd2e2",
      "metadata": {},
      "outputs": [],
      "source": [
        "# Pandas is a software library written for the Python programming language for data manipulation and analysis.\nimport pandas as pd\n#NumPy is a library for the Python programming language, adding support for large, multi-dimensional arrays and matrices, along with a large collection of high-level mathematical functions to operate on these arrays\nimport numpy as np"
      ]
    },
    {
      "cell_type": "markdown",
      "id": "bf28eb1c-8128-4a44-8f04-71d0090abb9c",
      "metadata": {},
      "outputs": [],
      "source": [
        "### Data Analysis\n"
      ]
    },
    {
      "cell_type": "code",
      "id": "8ff13cc2-b335-49d2-bd41-d93af3e08d68",
      "metadata": {},
      "outputs": [],
      "source": [
        "from js import fetch\nimport io\n\nURL = 'https://cf-courses-data.s3.us.cloud-object-storage.appdomain.cloud/IBM-DS0321EN-SkillsNetwork/datasets/dataset_part_1.csv'\nresp = await fetch(URL)\ndataset_part_1_csv = io.BytesIO((await resp.arrayBuffer()).to_py())"
      ]
    },
    {
      "cell_type": "markdown",
      "id": "7ba17c53-064b-44fb-9bd9-ddad3bb7cbdb",
      "metadata": {},
      "outputs": [],
      "source": [
        "Load Space X dataset, from last section.\n"
      ]
    },
    {
      "cell_type": "code",
      "id": "6c593b86-bea2-4aff-9275-82ff2ff9dfa0",
      "metadata": {},
      "outputs": [],
      "source": [
        "df=pd.read_csv(dataset_part_1_csv)\ndf.head(10)"
      ]
    },
    {
      "cell_type": "markdown",
      "id": "0c8b86e2-8ecb-4522-bf48-596569c5d188",
      "metadata": {},
      "outputs": [],
      "source": [
        "Identify and calculate the percentage of the missing values in each attribute\n"
      ]
    },
    {
      "cell_type": "code",
      "id": "dd918dff-8a41-48c3-97f6-4e3ce6ebe4d4",
      "metadata": {},
      "outputs": [],
      "source": [
        "df.isnull().sum()/df.count()*100"
      ]
    },
    {
      "cell_type": "code",
      "id": "2bc82a56-e3ab-4df9-96a0-1b87077d5c31",
      "metadata": {},
      "outputs": [],
      "source": [
        "df.dtypes"
      ]
    },
    {
      "cell_type": "markdown",
      "id": "17fad611-7f0e-4157-b0fc-14eebe3ba60e",
      "metadata": {},
      "outputs": [],
      "source": [
        "### TASK 1: Calculate the number of launches on each site\n",
        "\n",
        "The data contains several Space X  launch facilities: <a href='https://en.wikipedia.org/wiki/List_of_Cape_Canaveral_and_Merritt_Island_launch_sites?utm_medium=Exinfluencer&utm_source=Exinfluencer&utm_content=000026UJ&utm_term=10006555&utm_id=NA-SkillsNetwork-Channel-SkillsNetworkCoursesIBMDS0321ENSkillsNetwork26802033-2022-01-01'>Cape Canaveral Space</a> Launch Complex 40  <b>VAFB SLC 4E </b> , Vandenberg Air Force Base Space Launch Complex 4E <b>(SLC-4E)</b>, Kennedy Space Center Launch Complex 39A <b>KSC LC 39A </b>.The location of each Launch Is placed in the column <code>LaunchSite</code>\n"
      ]
    },
    {
      "cell_type": "markdown",
      "id": "33ff65be-5b98-45de-8c3d-272f356cdc26",
      "metadata": {},
      "outputs": [],
      "source": [
        "Next, let's see the number of launches for each site.\n",
        "\n",
        "Use the method  <code>value_counts()</code> on the column <code>LaunchSite</code> to determine the number of launches  on each site:\n"
      ]
    },
    {
      "cell_type": "code",
      "id": "b9e99e77-ff9e-409e-ad65-35f7e3cb7880",
      "metadata": {},
      "outputs": [],
      "source": [
        "# Apply value_counts() on column LaunchSite"
      ]
    },
    {
      "cell_type": "markdown",
      "id": "7d54b47a-1998-4fc6-92fd-93544c3c7e9d",
      "metadata": {},
      "outputs": [],
      "source": [
        "Each launch aims to an dedicated orbit, and here are some common orbit types:\n"
      ]
    },
    {
      "cell_type": "markdown",
      "id": "22148991-992e-4c19-9570-e7169b2db23e",
      "metadata": {},
      "outputs": [],
      "source": [
        "*   <b>LEO</b>: Low Earth orbit (LEO)is an Earth-centred orbit with an altitude of 2,000 km (1,200 mi) or less (approximately one-third of the radius of Earth),\\[1] or with at least 11.25 periods per day (an orbital period of 128 minutes or less) and an eccentricity less than 0.25.\\[2] Most of the manmade objects in outer space are in LEO <a href='https://en.wikipedia.org/wiki/Low_Earth_orbit?utm_medium=Exinfluencer&utm_source=Exinfluencer&utm_content=000026UJ&utm_term=10006555&utm_id=NA-SkillsNetwork-Channel-SkillsNetworkCoursesIBMDS0321ENSkillsNetwork26802033-2022-01-01'>\\[1]</a>.\n",
        "\n",
        "*   <b>VLEO</b>: Very Low Earth Orbits (VLEO) can be defined as the orbits with a mean altitude below 450 km. Operating in these orbits can provide a number of benefits to Earth observation spacecraft as the spacecraft operates closer to the observation<a href='https://www.researchgate.net/publication/271499606_Very_Low_Earth_Orbit_mission_concepts_for_Earth_Observation_Benefits_and_challenges?utm_medium=Exinfluencer&utm_source=Exinfluencer&utm_content=000026UJ&utm_term=10006555&utm_id=NA-SkillsNetwork-Channel-SkillsNetworkCoursesIBMDS0321ENSkillsNetwork26802033-2022-01-01'>\\[2]</a>.\n",
        "\n",
        "*   <b>GTO</b> A geosynchronous orbit is a high Earth orbit that allows satellites to match Earth's rotation. Located at 22,236 miles (35,786 kilometers) above Earth's equator, this position is a valuable spot for monitoring weather, communications and surveillance. Because the satellite orbits at the same speed that the Earth is turning, the satellite seems to stay in place over a single longitude, though it may drift north to south,” NASA wrote on its Earth Observatory website <a  href=\"https://www.space.com/29222-geosynchronous-orbit.html?utm_medium=Exinfluencer&utm_source=Exinfluencer&utm_content=000026UJ&utm_term=10006555&utm_id=NA-SkillsNetwork-Channel-SkillsNetworkCoursesIBMDS0321ENSkillsNetwork26802033-2022-01-01\" >\\[3] </a>.\n",
        "\n",
        "*   <b>SSO (or SO)</b>: It is a Sun-synchronous orbit  also called a heliosynchronous orbit is a nearly polar orbit around a planet, in which the satellite passes over any given point of the planet's surface at the same local mean solar time <a href=\"https://en.wikipedia.org/wiki/Sun-synchronous_orbit?utm_medium=Exinfluencer&utm_source=Exinfluencer&utm_content=000026UJ&utm_term=10006555&utm_id=NA-SkillsNetwork-Channel-SkillsNetworkCoursesIBMDS0321ENSkillsNetwork26802033-2022-01-01\">\\[4] <a>.\n",
        "\n",
        "*   <b>ES-L1 </b>:At the Lagrange points the gravitational forces of the two large bodies cancel out in such a way that a small object placed in orbit there is in equilibrium relative to the center of mass of the large bodies. L1 is one such point between the sun and the earth <a href=\"https://en.wikipedia.org/wiki/Lagrange_point?utm_medium=Exinfluencer&utm_source=Exinfluencer&utm_content=000026UJ&utm_term=10006555&utm_id=NA-SkillsNetwork-Channel-SkillsNetworkCoursesIBMDS0321ENSkillsNetwork26802033-2022-01-01#L1_point\">\\[5]</a> .\n",
        "\n",
        "*   <b>HEO</b> A highly elliptical orbit, is an elliptic orbit with high eccentricity, usually referring to one around Earth <a href=\"https://en.wikipedia.org/wiki/Highly_elliptical_orbit?utm_medium=Exinfluencer&utm_source=Exinfluencer&utm_content=000026UJ&utm_term=10006555&utm_id=NA-SkillsNetwork-Channel-SkillsNetworkCoursesIBMDS0321ENSkillsNetwork26802033-2022-01-01\">\\[6]</a>.\n",
        "\n",
        "*   <b> ISS </b> A modular space station (habitable artificial satellite) in low Earth orbit. It is a multinational collaborative project between five participating space agencies: NASA (United States), Roscosmos (Russia), JAXA (Japan), ESA (Europe), and CSA (Canada)<a href=\"https://en.wikipedia.org/wiki/International_Space_Station?utm_medium=Exinfluencer&utm_source=Exinfluencer&utm_content=000026UJ&utm_term=10006555&utm_id=NA-SkillsNetwork-Channel-SkillsNetworkCoursesIBMDS0321ENSkillsNetwork26802033-2022-01-01\"> \\[7] </a>\n",
        "\n",
        "*   <b> MEO </b> Geocentric orbits ranging in altitude from 2,000 km (1,200 mi) to just below geosynchronous orbit at 35,786 kilometers (22,236 mi). Also known as an intermediate circular orbit. These are \"most commonly at 20,200 kilometers (12,600 mi), or 20,650 kilometers (12,830 mi), with an orbital period of 12 hours <a href=\"https://en.wikipedia.org/wiki/List_of_orbits?utm_medium=Exinfluencer&utm_source=Exinfluencer&utm_content=000026UJ&utm_term=10006555&utm_id=NA-SkillsNetwork-Channel-SkillsNetworkCoursesIBMDS0321ENSkillsNetwork26802033-2022-01-01\"> \\[8] </a>\n",
        "\n",
        "*   <b> HEO </b> Geocentric orbits above the altitude of geosynchronous orbit (35,786 km or 22,236 mi) <a href=\"https://en.wikipedia.org/wiki/List_of_orbits?utm_medium=Exinfluencer&utm_source=Exinfluencer&utm_content=000026UJ&utm_term=10006555&utm_id=NA-SkillsNetwork-Channel-SkillsNetworkCoursesIBMDS0321ENSkillsNetwork26802033-2022-01-01\"> \\[9] </a>\n",
        "\n",
        "*   <b> GEO </b> It is a circular geosynchronous orbit 35,786 kilometres (22,236 miles) above Earth's equator and following the direction of Earth's rotation <a href=\"https://en.wikipedia.org/wiki/Geostationary_orbit?utm_medium=Exinfluencer&utm_source=Exinfluencer&utm_content=000026UJ&utm_term=10006555&utm_id=NA-SkillsNetwork-Channel-SkillsNetworkCoursesIBMDS0321ENSkillsNetwork26802033-2022-01-01\"> \\[10] </a>\n",
        "\n",
        "*   <b> PO </b> It is one type of satellites in which a satellite passes above or nearly above both poles of the body being orbited (usually a planet such as the Earth <a href=\"https://en.wikipedia.org/wiki/Polar_orbit?utm_medium=Exinfluencer&utm_source=Exinfluencer&utm_content=000026UJ&utm_term=10006555&utm_id=NA-SkillsNetwork-Channel-SkillsNetworkCoursesIBMDS0321ENSkillsNetwork26802033-2022-01-01\"> \\[11] </a>\n",
        "\n",
        "some are shown in the following plot:\n"
      ]
    },
    {
      "cell_type": "markdown",
      "id": "8bcc7c5b-2ea7-4eae-94db-98137c8ef7f8",
      "metadata": {},
      "outputs": [],
      "source": [
        "![](https://cf-courses-data.s3.us.cloud-object-storage.appdomain.cloud/IBMDeveloperSkillsNetwork-DS0701EN-SkillsNetwork/api/Images/Orbits.png)\n"
      ]
    },
    {
      "cell_type": "markdown",
      "id": "7e8e2e0c-ef02-4926-913f-5cf31feb9064",
      "metadata": {},
      "outputs": [],
      "source": [
        "### TASK 2: Calculate the number and occurrence of each orbit\n"
      ]
    },
    {
      "cell_type": "markdown",
      "id": "ddf9f242-5e3d-49ed-a64f-8247a4ce394a",
      "metadata": {},
      "outputs": [],
      "source": [
        "Use the method  <code>.value_counts()</code> to determine the number and occurrence of each orbit in the  column <code>Orbit</code>\n"
      ]
    },
    {
      "cell_type": "code",
      "id": "20df1251-8ffc-40c2-92aa-344ffed8ecbf",
      "metadata": {},
      "outputs": [],
      "source": [
        "# Apply value_counts on Orbit column"
      ]
    },
    {
      "cell_type": "markdown",
      "id": "98917001-2e99-42d0-b203-9fcff3bb3a7e",
      "metadata": {},
      "outputs": [],
      "source": [
        "### TASK 3: Calculate the number and occurence of mission outcome per orbit type\n"
      ]
    },
    {
      "cell_type": "markdown",
      "id": "bdd1f82d-d60b-41bd-8743-f3de61f75fa4",
      "metadata": {},
      "outputs": [],
      "source": [
        "Use the method <code>.value_counts()</code> on the column <code>Outcome</code> to determine the number of <code>landing_outcomes</code>.Then assign it to a variable landing_outcomes.\n"
      ]
    },
    {
      "cell_type": "code",
      "id": "3b7b7808-b046-4012-bf91-70eb601cb5d1",
      "metadata": {},
      "outputs": [],
      "source": [
        "# landing_outcomes = values on Outcome column"
      ]
    },
    {
      "cell_type": "markdown",
      "id": "36ad4eeb-be76-4ad3-ad39-2d41bb408123",
      "metadata": {},
      "outputs": [],
      "source": [
        "<code>True Ocean</code> means the mission outcome was successfully  landed to a specific region of the ocean while <code>False Ocean</code> means the mission outcome was unsuccessfully landed to a specific region of the ocean. <code>True RTLS</code> means the mission outcome was successfully  landed to a ground pad <code>False RTLS</code> means the mission outcome was unsuccessfully landed to a ground pad.<code>True ASDS</code> means the mission outcome was successfully  landed to a drone ship <code>False ASDS</code> means the mission outcome was unsuccessfully landed to a drone ship. <code>None ASDS</code> and <code>None None</code> these represent a failure to land.\n"
      ]
    },
    {
      "cell_type": "code",
      "id": "3848c4da-5d8d-4042-811e-057bd3c37107",
      "metadata": {},
      "outputs": [],
      "source": [
        "for i,outcome in enumerate(landing_outcomes.keys()):\n    print(i,outcome)"
      ]
    },
    {
      "cell_type": "markdown",
      "id": "0f2453e0-6394-4c1f-a1e7-73d324babec3",
      "metadata": {},
      "outputs": [],
      "source": [
        "We create a set of outcomes where the second stage did not land successfully:\n"
      ]
    },
    {
      "cell_type": "code",
      "id": "5c457e76-2dcb-438a-b53f-40b97b11e6ac",
      "metadata": {},
      "outputs": [],
      "source": [
        "bad_outcomes=set(landing_outcomes.keys()[[1,3,5,6,7]])\nbad_outcomes"
      ]
    },
    {
      "cell_type": "markdown",
      "id": "a578f146-db4a-4983-9411-104e8e3c29c7",
      "metadata": {},
      "outputs": [],
      "source": [
        "### TASK 4: Create a landing outcome label from Outcome column\n"
      ]
    },
    {
      "cell_type": "markdown",
      "id": "ea877d5e-7487-49e5-aa42-670ac94c9236",
      "metadata": {},
      "outputs": [],
      "source": [
        "Using the <code>Outcome</code>,  create a list where the element is zero if the corresponding  row  in  <code>Outcome</code> is in the set <code>bad_outcome</code>; otherwise, it's one. Then assign it to the variable <code>landing_class</code>:\n"
      ]
    },
    {
      "cell_type": "code",
      "id": "3fc875a0-7738-4421-9b23-6762b731dd75",
      "metadata": {},
      "outputs": [],
      "source": [
        "# landing_class = 0 if bad_outcome\n# landing_class = 1 otherwise"
      ]
    },
    {
      "cell_type": "markdown",
      "id": "471ee091-bf95-4abd-aaa0-e257950fc88b",
      "metadata": {},
      "outputs": [],
      "source": [
        "This variable will represent the classification variable that represents the outcome of each launch. If the value is zero, the  first stage did not land successfully; one means  the first stage landed Successfully\n"
      ]
    },
    {
      "cell_type": "code",
      "id": "6b4a6138-51e0-4060-af18-ce95f8787d73",
      "metadata": {},
      "outputs": [],
      "source": [
        "df['Class']=landing_class\ndf[['Class']].head(8)"
      ]
    },
    {
      "cell_type": "code",
      "id": "9f3f8cf8-02e3-48c3-9d20-3d57c1e2afc6",
      "metadata": {},
      "outputs": [],
      "source": [
        "df.head(5)"
      ]
    },
    {
      "cell_type": "markdown",
      "id": "e4626b5b-1b8a-401e-bdd1-67f64d8ea04a",
      "metadata": {},
      "outputs": [],
      "source": [
        "We can use the following line of code to determine  the success rate:\n"
      ]
    },
    {
      "cell_type": "code",
      "id": "1236b2ce-ae53-4caa-9971-087ec7c60bca",
      "metadata": {},
      "outputs": [],
      "source": [
        "df[\"Class\"].mean()"
      ]
    },
    {
      "cell_type": "markdown",
      "id": "09c3d539-bb26-4528-aa95-dd4dd1d4d83b",
      "metadata": {},
      "outputs": [],
      "source": [
        "We can now export it to a CSV for the next section,but to make the answers consistent, in the next lab we will provide data in a pre-selected date range.\n"
      ]
    },
    {
      "cell_type": "markdown",
      "id": "81bc720d-7db9-42a5-8897-a4e78e938087",
      "metadata": {},
      "outputs": [],
      "source": [
        "<code>df.to_csv(\"dataset_part\\_2.csv\", index=False)</code>\n"
      ]
    },
    {
      "cell_type": "markdown",
      "id": "4e462e5f-ff5f-4f5a-a2a2-f3b39c76984e",
      "metadata": {},
      "outputs": [],
      "source": [
        "## Authors\n"
      ]
    },
    {
      "cell_type": "markdown",
      "id": "3568a8da-dfc5-413b-95fd-b620b255cacb",
      "metadata": {},
      "outputs": [],
      "source": [
        "[Pratiksha Verma](https://www.linkedin.com/in/pratiksha-verma-6487561b1/?utm_medium=Exinfluencer&utm_source=Exinfluencer&utm_content=000026UJ&utm_term=10006555&utm_id=NA-SkillsNetwork-Channel-SkillsNetworkCoursesIBMDS0321ENSkillsNetwork865-2022-01-01)\n"
      ]
    },
    {
      "cell_type": "markdown",
      "id": "8a002a07-6176-414b-b627-dc43e87e2e5f",
      "metadata": {},
      "outputs": [],
      "source": [
        "## Change Log\n"
      ]
    },
    {
      "cell_type": "markdown",
      "id": "5ccc6471-8b6d-4269-9c27-efb77b23eee7",
      "metadata": {},
      "outputs": [],
      "source": [
        "| Date (YYYY-MM-DD) | Version | Changed By      | Change Description      |\n",
        "| ----------------- | ------- | -------------   | ----------------------- |\n",
        "| 2022-11-09        | 1.0     | Pratiksha Verma | Converted initial version to Jupyterlite|\n"
      ]
    },
    {
      "cell_type": "markdown",
      "id": "9d992df1-79a1-4088-adde-7ea547dea702",
      "metadata": {},
      "outputs": [],
      "source": [
        "IBM Corporation 2022. All rights reserved.\n"
      ]
    }
  ],
  "metadata": {
    "language_info": {
      "codemirror_mode": {
        "name": "python",
        "version": 3
      },
      "file_extension": ".py",
      "mimetype": "text/x-python",
      "name": "python",
      "nbconvert_exporter": "python",
      "pygments_lexer": "ipython3",
      "version": "3.8"
    },
    "kernelspec": {
      "name": "python",
      "display_name": "Pyolite",
      "language": "python"
    }
  },
  "nbformat": 4,
  "nbformat_minor": 4
}